{
 "cells": [
  {
   "cell_type": "markdown",
   "id": "interpreted-advancement",
   "metadata": {},
   "source": [
    "# Chapter 1 questions"
   ]
  },
  {
   "cell_type": "markdown",
   "id": "violent-catch",
   "metadata": {},
   "source": [
    "## 1.2)\n",
    "### add odd numbers to find a pattern. prove the pattern"
   ]
  },
  {
   "cell_type": "code",
   "execution_count": 10,
   "id": "neither-blink",
   "metadata": {},
   "outputs": [
    {
     "name": "stdout",
     "output_type": "stream",
     "text": [
      "[1, 2, 3, 4, 5, 6, 7, 8, 9]\n",
      "[1, 4, 9, 16, 25, 36, 49, 64, 81]\n"
     ]
    }
   ],
   "source": [
    "def add_first_n_odds(n):\n",
    "    odds=[2*x+1 for x in range(n)]\n",
    "    return sum(odds)\n",
    "\n",
    "testX=[x for x in range(1, 10)]\n",
    "testY=[add_first_n_odds(x) for x in testX]\n",
    "print(testX)\n",
    "print(testY)"
   ]
  },
  {
   "cell_type": "markdown",
   "id": "complex-expansion",
   "metadata": {},
   "source": [
    "### looks like squares, lets prove it  \n",
    "### let $O_{n} = $sum of the first N odds  \n",
    "### $O_{n} = \\sum_{k=1}^{n} 2*k -1$ with n=1 being the sum of the first odd, n=2 being the sum of the first 2 odds\n",
    "### conjecture: $O_{n} = n^{2} $\n",
    "### prove this is true for $O_{n}$\n",
    "#### $O_{1} = \\sum_{k=1}^{(1)} 2*k-1 = 2*1-1 = 1 = (1)^{2}$\n",
    "#### $O_{2} = \\sum_{k=1}^{(2)} 2*k-1 = (2*(1)-1) + (2*(2)-1) = 1 + 3 = 4 = (2)^{2}$\n",
    "#### so, for n=q, suppose n=1=q is true and n=2=q is true. then for q+1,\n",
    "#### $\\sum_{k=1}^{q+1} 2*k-1 = ( \\sum_{k=1}^{q-1} 2*k-1 ) + (2*q-1) $\n",
    "#### $= (q-1)^{2} + 2*q-1 = (q^{2}-2*q - 1) + (2*q-1) = q^{2} $"
   ]
  },
  {
   "cell_type": "markdown",
   "id": "entitled-sigma",
   "metadata": {},
   "source": [
    "## 1.4) it is generally believed that there are infinite primes in the form $N^{2} +1$\n",
    "### a) are there infinite primes in the for $N^{2}-1$?"
   ]
  },
  {
   "cell_type": "markdown",
   "id": "introductory-reset",
   "metadata": {},
   "source": []
  },
  {
   "cell_type": "markdown",
   "id": "rural-durham",
   "metadata": {},
   "source": [
    "### b) are there inifite primes in the form $N^{2} - 2$?"
   ]
  },
  {
   "cell_type": "markdown",
   "id": "stuck-treatment",
   "metadata": {},
   "source": []
  },
  {
   "cell_type": "markdown",
   "id": "bigger-amount",
   "metadata": {},
   "source": [
    "### c) what about the form $N^{2}-3$, what about $N^{2} - 4$?"
   ]
  },
  {
   "cell_type": "code",
   "execution_count": null,
   "id": "extended-juvenile",
   "metadata": {},
   "outputs": [],
   "source": []
  },
  {
   "cell_type": "markdown",
   "id": "royal-municipality",
   "metadata": {},
   "source": [
    "### d) what values $a$ do you think give inifitely many primes in the form $N^{2} - a$?"
   ]
  },
  {
   "cell_type": "code",
   "execution_count": null,
   "id": "incorrect-lambda",
   "metadata": {},
   "outputs": [],
   "source": []
  }
 ],
 "metadata": {
  "kernelspec": {
   "display_name": "Python 3",
   "language": "python",
   "name": "python3"
  },
  "language_info": {
   "codemirror_mode": {
    "name": "ipython",
    "version": 3
   },
   "file_extension": ".py",
   "mimetype": "text/x-python",
   "name": "python",
   "nbconvert_exporter": "python",
   "pygments_lexer": "ipython3",
   "version": "3.8.5"
  }
 },
 "nbformat": 4,
 "nbformat_minor": 5
}
