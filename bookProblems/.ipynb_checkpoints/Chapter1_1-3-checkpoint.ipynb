{
 "cells": [
  {
   "cell_type": "markdown",
   "id": "clean-chrome",
   "metadata": {},
   "source": [
    "# 1.3) are there infinte prime triple such that for prime p, (p, p+2, p+4) are all prime"
   ]
  },
  {
   "cell_type": "code",
   "execution_count": null,
   "id": "entertaining-customer",
   "metadata": {},
   "outputs": [],
   "source": []
  }
 ],
 "metadata": {
  "kernelspec": {
   "display_name": "Python 3",
   "language": "python",
   "name": "python3"
  },
  "language_info": {
   "codemirror_mode": {
    "name": "ipython",
    "version": 3
   },
   "file_extension": ".py",
   "mimetype": "text/x-python",
   "name": "python",
   "nbconvert_exporter": "python",
   "pygments_lexer": "ipython3",
   "version": "3.8.5"
  }
 },
 "nbformat": 4,
 "nbformat_minor": 5
}
