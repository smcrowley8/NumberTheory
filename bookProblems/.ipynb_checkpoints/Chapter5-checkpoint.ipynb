{
 "cells": [
  {
   "cell_type": "markdown",
   "id": "enormous-panel",
   "metadata": {},
   "source": [
    "## Chap 5"
   ]
  },
  {
   "cell_type": "markdown",
   "id": "collectible-wonder",
   "metadata": {},
   "source": [
    "## 5.2 gcd algorythm coded\n"
   ]
  },
  {
   "cell_type": "code",
   "execution_count": 2,
   "id": "approximate-honey",
   "metadata": {},
   "outputs": [],
   "source": [
    "def gcd(a, b):\n",
    "    if a==0:\n",
    "        return b\n",
    "    elif b==0:\n",
    "        return a\n",
    "    else:\n",
    "        if a>b:\n",
    "            return gcd(b, a%b)\n",
    "        else:\n",
    "            return gcd(a, b%a)"
   ]
  },
  {
   "cell_type": "code",
   "execution_count": 6,
   "id": "minor-hygiene",
   "metadata": {},
   "outputs": [
    {
     "name": "stdout",
     "output_type": "stream",
     "text": [
      "gcd(12345,67890)=15\n",
      "gcd(54321,9876)=3\n",
      "gcd(0,0)=0\n"
     ]
    }
   ],
   "source": [
    "#5.1\n",
    "print(f'gcd(12345,67890)={gcd(12345,67890)}')\n",
    "print(f'gcd(54321,9876)={gcd(54321,9876)}')\n",
    "print(f'gcd(0,0)={gcd(0,0)}')"
   ]
  },
  {
   "cell_type": "code",
   "execution_count": null,
   "id": "unavailable-hearing",
   "metadata": {},
   "outputs": [],
   "source": []
  }
 ],
 "metadata": {
  "kernelspec": {
   "display_name": "Python 3",
   "language": "python",
   "name": "python3"
  },
  "language_info": {
   "codemirror_mode": {
    "name": "ipython",
    "version": 3
   },
   "file_extension": ".py",
   "mimetype": "text/x-python",
   "name": "python",
   "nbconvert_exporter": "python",
   "pygments_lexer": "ipython3",
   "version": "3.8.5"
  }
 },
 "nbformat": 4,
 "nbformat_minor": 5
}
