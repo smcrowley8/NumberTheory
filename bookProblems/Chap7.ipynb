{
 "cells": [
  {
   "cell_type": "markdown",
   "id": "reduced-lucas",
   "metadata": {},
   "source": [
    "# 7.1) suppose gcd(a,b)=1. suppose $a\\mid b*c$. show that a must divide c\n",
    "## if gcd(a, b)=1, then they are relatively prime such that the prime factorization of each contains no similar factors\n",
    "### that is $a=p_1 * p_2 * ... * p_n$ and $b=q_1 * q_2 *... * q_m$ where $\\forall p_i, q_i$: $p_i\\ne q_i$\n",
    "### since $a\\mid b*c$, $\\exists d\\in\\mathbb{N}$: $a*d=b*c$"
   ]
  },
  {
   "cell_type": "markdown",
   "id": "lined-japanese",
   "metadata": {},
   "source": [
    "# 7.2 suppose gcd(a,b)=1. also that $a\\mid c$ and $b\\mid c$. show that a*b must divide c\n",
    "##"
   ]
  },
  {
   "cell_type": "markdown",
   "id": "domestic-coach",
   "metadata": {},
   "source": [
    "# 7.3 prove by induction the following\n",
    "## a) $1+2+3+...+n=\\frac{n*(n+1)}{2}$  \n",
    "###\n"
   ]
  },
  {
   "cell_type": "markdown",
   "id": "nasty-violence",
   "metadata": {},
   "source": [
    "## b) $1^2 + 2^2 + 3^2+...+n^2 = \\frac{n*(n+1)*(2*n+1)}{6}$"
   ]
  },
  {
   "cell_type": "markdown",
   "id": "crucial-shirt",
   "metadata": {},
   "source": [
    "## c) $1+ a + a^2 + a^3 + ... + a^n = \\frac{1-a^{n+1}}{1-a}$ ; $a\\ne 1$"
   ]
  },
  {
   "cell_type": "markdown",
   "id": "stopped-basics",
   "metadata": {},
   "source": [
    "## d) $\\frac{1}{1*2} + \\frac{1}{2*3}+\\frac{1}{3*4}+...+\\frac{1}{(n-1)*n} = \\frac{n-1}{n}$"
   ]
  },
  {
   "cell_type": "markdown",
   "id": "encouraging-calvin",
   "metadata": {},
   "source": [
    "# 7.4\n",
    "## a) even-world primes are all normal primes*2\n",
    "## b) show all E-world nums can be factored into E-world primes\n",
    "###\n",
    "## c) find the smallest number with 4 distinct prime factorizations (is 180 the smallest with 3?)\n",
    "###"
   ]
  },
  {
   "cell_type": "markdown",
   "id": "unlikely-alarm",
   "metadata": {},
   "source": [
    "## d) 12 has only 1 E-world prime fractorization. describe all even numbers that have only 1 prime factorization\n",
    "### numbers with only 1 prime factorization would be E-world primes * any real-world prime\n",
    "idk just feels right\n"
   ]
  },
  {
   "cell_type": "markdown",
   "id": "classical-ordinary",
   "metadata": {},
   "source": []
  },
  {
   "cell_type": "markdown",
   "id": "designing-watch",
   "metadata": {},
   "source": []
  },
  {
   "cell_type": "markdown",
   "id": "minute-laundry",
   "metadata": {},
   "source": []
  },
  {
   "cell_type": "markdown",
   "id": "israeli-science",
   "metadata": {},
   "source": []
  },
  {
   "cell_type": "markdown",
   "id": "differential-toolbox",
   "metadata": {},
   "source": []
  },
  {
   "cell_type": "markdown",
   "id": "measured-receipt",
   "metadata": {},
   "source": []
  },
  {
   "cell_type": "markdown",
   "id": "incoming-spider",
   "metadata": {},
   "source": []
  },
  {
   "cell_type": "markdown",
   "id": "rising-scratch",
   "metadata": {},
   "source": []
  },
  {
   "cell_type": "markdown",
   "id": "headed-photograph",
   "metadata": {},
   "source": []
  },
  {
   "cell_type": "markdown",
   "id": "satellite-limitation",
   "metadata": {},
   "source": []
  }
 ],
 "metadata": {
  "kernelspec": {
   "display_name": "Python 3",
   "language": "python",
   "name": "python3"
  },
  "language_info": {
   "codemirror_mode": {
    "name": "ipython",
    "version": 3
   },
   "file_extension": ".py",
   "mimetype": "text/x-python",
   "name": "python",
   "nbconvert_exporter": "python",
   "pygments_lexer": "ipython3",
   "version": "3.8.5"
  }
 },
 "nbformat": 4,
 "nbformat_minor": 5
}
