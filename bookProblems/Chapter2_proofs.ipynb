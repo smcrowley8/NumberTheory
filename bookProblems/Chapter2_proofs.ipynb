{
 "cells": [
  {
   "cell_type": "markdown",
   "id": "viral-target",
   "metadata": {},
   "source": [
    "# 2.2"
   ]
  },
  {
   "cell_type": "markdown",
   "id": "olympic-fishing",
   "metadata": {},
   "source": [
    "### setup: $d\\mid m$ iff $\\exists x \\in \\mathbb{N} \\, : \\, d*x=m $"
   ]
  },
  {
   "cell_type": "markdown",
   "id": "elect-interval",
   "metadata": {},
   "source": [
    "### prove that if $ d \\mid m $ and $ d \\mid n $ and $m>n$, that $d \\mid (m-n) $ and $d\\mid (m+n)$"
   ]
  },
  {
   "cell_type": "markdown",
   "id": "variable-election",
   "metadata": {},
   "source": [
    "### proof:\n",
    "### given $d \\mid n$ and $d\\mid m$, $\\exists x, y\\in \\mathbb{N} : d*x=m$ and $d*y=n$"
   ]
  },
  {
   "cell_type": "markdown",
   "id": "western-checkout",
   "metadata": {},
   "source": [
    "### $m-n = d*x - d*y = d*(x-y)$\n",
    "### let $x-y=z$, $m-n=d*z$, therefore $d\\mid (m-n)$\n",
    "### $m+n = d*x + d*y = d*(x+y)$\n",
    "### let $x+y=z$, $m+n=d*z$, therefore $d\\mid (m+n)$"
   ]
  },
  {
   "cell_type": "markdown",
   "id": "defensive-segment",
   "metadata": {},
   "source": [
    "# 2.5"
   ]
  },
  {
   "cell_type": "markdown",
   "id": "first-stable",
   "metadata": {},
   "source": [
    "## setup: $T_{n} = $ nth triangular number $= \\frac{n*(n+1)}{2}$\n",
    "## triangles = {1, 3, 6, 10, 15, 21, ...}\n",
    "## b)\n",
    "### are there infinite primitive pythagorean triples (a, b, c) where $b=4*T_{i}$"
   ]
  },
  {
   "cell_type": "markdown",
   "id": "corrected-music",
   "metadata": {},
   "source": [
    "### let $O_{n} = $ nth odd number\n",
    "### conjecture: $\\exists z\\in\\mathbb{N} $ such that $O_{n}^{2} + T_{n}^{2} = z^{2} $ "
   ]
  },
  {
   "cell_type": "markdown",
   "id": "broad-relief",
   "metadata": {},
   "source": [
    "### $O_{n} = 2n+1$ ($O_{0}=3$)"
   ]
  },
  {
   "cell_type": "markdown",
   "id": "retired-strap",
   "metadata": {},
   "source": [
    "### $T_{n} = \\frac{n*(n+1)}{2}$\n",
    "### $(2*n+1)^{2} + 4*(\\frac{n*(n+1)}{2})^{2} =$  \n",
    "### $(4n^{2}+4n+1) + (2n^{2}+2n)^{2} = $  \n",
    "### $(4n^{2}+4n+1) + (4n^{4} + 8n^{3}+4n^{2}) = 4n^4+8n^3+8n^{2}+4n+1 $"
   ]
  },
  {
   "cell_type": "markdown",
   "id": "residential-coupon",
   "metadata": {},
   "source": [
    "### let $z=b+1$  \n",
    "### $z^{2} = (4*T_{n}+1)^{2} = (2n*(n+1) +1)^{2}$  \n",
    "### $= 4n^4+8n^3+8n^2+4n+1 = O_{n}^{2} + T_{n}^{2}$"
   ]
  },
  {
   "cell_type": "markdown",
   "id": "honey-breakdown",
   "metadata": {},
   "source": [
    "### so, (the nth odd) squared, plus (4 times (the nth triangular number)) squared = (4 times (the nth triangular number) plus 1) squared\n",
    "### that is, $O_{n}^{2} + 4*T_{n}^{2} = (4*T_{n} +1)^{2} $"
   ]
  }
 ],
 "metadata": {
  "kernelspec": {
   "display_name": "Python 3",
   "language": "python",
   "name": "python3"
  },
  "language_info": {
   "codemirror_mode": {
    "name": "ipython",
    "version": 3
   },
   "file_extension": ".py",
   "mimetype": "text/x-python",
   "name": "python",
   "nbconvert_exporter": "python",
   "pygments_lexer": "ipython3",
   "version": "3.8.5"
  }
 },
 "nbformat": 4,
 "nbformat_minor": 5
}
