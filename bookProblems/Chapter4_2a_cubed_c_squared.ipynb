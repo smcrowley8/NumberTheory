{
 "cells": [
  {
   "cell_type": "markdown",
   "id": "biological-royalty",
   "metadata": {},
   "source": []
  },
  {
   "cell_type": "markdown",
   "id": "sunset-april",
   "metadata": {},
   "source": [
    "## $a^3 + b^3 = c^2$ when a=b\n",
    "### so, $2*a^{3} = c^2$"
   ]
  },
  {
   "cell_type": "markdown",
   "id": "impossible-clerk",
   "metadata": {},
   "source": [
    "# conjecture: (2, 2, 4) is the only primitive solution such that a=b\n",
    "non primitives follow form ($a*N^{2}$, $b*N^{2}$, $c*N^{3}$) $\\forall N\\in \\mathbb{N}$  \n",
    "(8, 8, 32) is a solution such that a=b, but it is not primitive  since N=2\n",
    "## a and c are even\n",
    "let $d=a^{3}$, $c^2 =2*d$, if c were odd, $c^2$ would also be odd. so c must be even"
   ]
  },
  {
   "cell_type": "markdown",
   "id": "extra-rocket",
   "metadata": {},
   "source": [
    "## prime factorizations of $a$ and $c$ \n",
    "the reason we do this is because is if $c=p_{1}^{l_1}\\,*\\,p_{2}^{l_{2}}\\,*...*\\,p_{n}^{l_n}$ for primes $p_{i}$  \n",
    "then $c^2 = p_{1}^{2*l_1}\\,*\\,p_{2}^{2*l_{2}}\\,*...*\\,p_{n}^{2*l_n}$, which consists of the same primes but double their exponent.   \n",
    "we also know that since $2a^3=c^2$, that the prime factorization of each side will be the same\n",
    "so since c is even, lets explicitly state 2 as the first prime, and give it exponent $l_{0}$  \n",
    "a also has to be even, let $d=c/2$, since c is even $d\\in\\mathbb{N}$  \n",
    "$2*a^3 = (2d)^2$, so $a^3 = 2*d^2$, since $a^3$ is even, a must be even. beacuse an odd $a$ would lead $a^3$ to being odd  \n",
    "so\n",
    "$$\n",
    "    c=2^{l_0}\\,*\\,p_{1}^{l_1}\\,*\\,p_{2}^{l_{2}}\\,*...*\\,p_{n}^{l_n} \\\\\n",
    "    a=2^{k_0}\\,*\\,p_{1}^{k_1}\\,*\\,p_{2}^{k_{2}}\\,*...*\\,p_{n}^{k_n} \\\\\n",
    "$$"
   ]
  },
  {
   "cell_type": "markdown",
   "id": "little-asset",
   "metadata": {},
   "source": [
    "### restructure expoenents to get $c^2 = 2^{2*l_0}\\,*\\,(p_{1}^{l_1})^{2}\\,*\\,(p_{2}^{l_{2}})^{2}...\\,*(p_{n}^{l_n})^{2}$\n",
    "### and, $2*a^3=2^{3*k_0 + 1}\\,*\\,(p_{1}^{k_1})^{3}\\,*\\,(p_{2}^{k_{2}})^{3}...\\,*(p_{n}^{k_n})^{3}$\n",
    "### "
   ]
  },
  {
   "cell_type": "markdown",
   "id": "inside-protocol",
   "metadata": {},
   "source": [
    "immediately, i want to assume that $2^{3*k_{0} +1} = 2^{2*l_0}$  \n",
    "and that $(p_{1}^{l_1})^{2}\\,*\\,(p_{2}^{l_{2}})^{2}...\\,*(p_{n}^{l_n})^{2} = (p_{1}^{3*k_1})^{3}\\,*\\,(p_{2}^{3*k_{2}})^{3}...\\,*(p_{n}^{k_n})^{3}$   \n",
    "This feels valid, because if $x=y$ then $x/2 = y/2$. so the odd base of x must be the odd base of y  \n",
    "so\n",
    "## $2^{3*k_{0} +1} = 2^{2*l_0} \\rightarrow 3*k_0+1 = 2*l_0$\n",
    "im just gonna ignore the connection to collatz for now"
   ]
  },
  {
   "cell_type": "markdown",
   "id": "athletic-consent",
   "metadata": {},
   "source": [
    "### so, let $g = p_{1}^{l_1} * p_{2}^{l_2} *...*p_{n}^{l_n}$ and let $h=p_{1}^{k_1} * p_{2}^{k_2} *...*p_{n}^{k_n}$\n",
    "### then, $2*a^3 = 2^{3*k_{0}+1} * g^2 = c^3 = 2^{2*l_0} * h^3$"
   ]
  },
  {
   "cell_type": "markdown",
   "id": "applicable-accommodation",
   "metadata": {},
   "source": [
    "so if g=h then the solution is non primitive  \n",
    "does g HAVE to equal h?\n"
   ]
  },
  {
   "cell_type": "markdown",
   "id": "american-feature",
   "metadata": {},
   "source": [
    "### we know a and c are even, so $l_0$ and $k_0$ have to $\\ge$1\n",
    "### $k_0$ has to be odd, since an even $k_0$ makes $3*k+1$ odd, and since $3k_0+1=2l_0$, it must be even"
   ]
  },
  {
   "cell_type": "markdown",
   "id": "controversial-davis",
   "metadata": {},
   "source": [
    "if "
   ]
  },
  {
   "cell_type": "markdown",
   "id": "martial-schema",
   "metadata": {},
   "source": []
  },
  {
   "cell_type": "markdown",
   "id": "motivated-glory",
   "metadata": {},
   "source": []
  },
  {
   "cell_type": "markdown",
   "id": "australian-burning",
   "metadata": {},
   "source": []
  },
  {
   "cell_type": "markdown",
   "id": "fossil-parking",
   "metadata": {},
   "source": []
  },
  {
   "cell_type": "markdown",
   "id": "stopped-waste",
   "metadata": {},
   "source": []
  },
  {
   "cell_type": "markdown",
   "id": "responsible-cooperation",
   "metadata": {},
   "source": []
  },
  {
   "cell_type": "markdown",
   "id": "certified-triangle",
   "metadata": {},
   "source": []
  },
  {
   "cell_type": "markdown",
   "id": "champion-briefing",
   "metadata": {},
   "source": []
  }
 ],
 "metadata": {
  "kernelspec": {
   "display_name": "Python 3",
   "language": "python",
   "name": "python3"
  },
  "language_info": {
   "codemirror_mode": {
    "name": "ipython",
    "version": 3
   },
   "file_extension": ".py",
   "mimetype": "text/x-python",
   "name": "python",
   "nbconvert_exporter": "python",
   "pygments_lexer": "ipython3",
   "version": "3.8.5"
  }
 },
 "nbformat": 4,
 "nbformat_minor": 5
}
