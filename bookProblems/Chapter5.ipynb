{
 "cells": [
  {
   "cell_type": "markdown",
   "id": "enormous-panel",
   "metadata": {},
   "source": [
    "## Chap 5"
   ]
  },
  {
   "cell_type": "markdown",
   "id": "collectible-wonder",
   "metadata": {},
   "source": [
    "## 5.2 gcd algorythm coded\n"
   ]
  },
  {
   "cell_type": "code",
   "execution_count": 5,
   "id": "approximate-honey",
   "metadata": {},
   "outputs": [],
   "source": [
    "def gcd(a, b):\n",
    "    if a==0:\n",
    "        return b\n",
    "    elif b==0:\n",
    "        return a\n",
    "    else:\n",
    "        if a>b:\n",
    "            return gcd(b, a%b)\n",
    "        else:\n",
    "            return gcd(a, b%a)"
   ]
  },
  {
   "cell_type": "code",
   "execution_count": null,
   "id": "minor-hygiene",
   "metadata": {},
   "outputs": [],
   "source": []
  }
 ],
 "metadata": {
  "kernelspec": {
   "display_name": "Python 3",
   "language": "python",
   "name": "python3"
  },
  "language_info": {
   "codemirror_mode": {
    "name": "ipython",
    "version": 3
   },
   "file_extension": ".py",
   "mimetype": "text/x-python",
   "name": "python",
   "nbconvert_exporter": "python",
   "pygments_lexer": "ipython3",
   "version": "3.8.5"
  }
 },
 "nbformat": 4,
 "nbformat_minor": 5
}
