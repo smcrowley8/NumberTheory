{
 "cells": [
  {
   "cell_type": "markdown",
   "id": "worldwide-aerospace",
   "metadata": {},
   "source": [
    "# divisibility and gcd with euclid"
   ]
  },
  {
   "cell_type": "markdown",
   "id": "focal-assembly",
   "metadata": {},
   "source": [
    "## euclidean algorithm background\n",
    "###  $\\forall a,b \\in\\mathbb{N}$, $ \\exists q,r \\in\\mathbb{N} $ such that $a=b*q+r$ with $r<b$  \n",
    "so, if we let $r_0 = b$ and $r_{-1} = a$, we get  \n",
    "$$\n",
    "    r_{-1}=r_{0}*q_1 + r_1 \\rightarrow \\\\\n",
    "    r_{0} = r_1 * q_2 + r_2 \\rightarrow \\\\\n",
    "    r_1 =r_2 * q_3 + r_3 \\rightarrow \\\\\n",
    "    ... \\\\\n",
    "    r_{n-2} = r_{n-1}*q_n + r_n \\rightarrow \\\\\n",
    "    r_{n-1} = r_{n}*q_{n+1} + 0 \\\\\n",
    "$$   \n",
    "so, $ \\rightarrow $  \n",
    "$r_{i-1}=r_{i}*q_{i+1} + r_{i+1}$\n",
    "\n"
   ]
  },
  {
   "cell_type": "markdown",
   "id": "rational-reflection",
   "metadata": {},
   "source": [
    "# why is $r_n$ =gcd(a,b)?\n",
    "## to answer that, we have to asnwer: does the algorithm have to end\n",
    "#### $r_i < r_{i-1}$, and since we are bound to positive ints for the quotient and remainder, the algorithm must end with $r_n>0$ \n",
    "#### NOTE: $r_{n+1} = 0$\n",
    "## now we need to know: does $r_n \\mid a$ and $r_n \\mid b$, is it actually a divisor\n",
    "#### $r_n \\mid r_{n-1} \\rightarrow r_n \\mid r_{n-2} \\rightarrow ... \\rightarrow r_n \\mid b \\rightarrow r_n \\mid a$\n",
    "#### this is beacuse $r_{n-1} = r_n * q_{n+1} + 0$ since $r_{n+1}=0$. so, $r_n \\mid r_{n-1}$\n",
    "#### and since $r_{n-2} = r_{n-1}*q_{n} + r_n \\rightarrow \\, r_{n-2} = (r_n * q_{n+1}) + r_n$, $r_n \\mid r_{n-2}$ as well. this carries all the way such that $r_n \\mid r_i $\n"
   ]
  },
  {
   "cell_type": "markdown",
   "id": "supported-crystal",
   "metadata": {},
   "source": [
    "## so, if $d\\mid a$ and $d\\mid b$, and $a=b*q+r$ with $r<b$, then $d\\mid r$\n",
    "## why?\n",
    "### so, assume $\\exists d\\in\\mathbb{N}$ such that $d\\mid a$ and $d\\mid b$\n",
    "### that means $\\exists x,y\\in\\mathbb{N}$ such that $a=d*x$ and $b=d*y$\n",
    "#### NOTE: since $a-b = d*x - d*y = d*(x-y)$, $d\\mid (a-b)$, and since $b=d*y$, $\\forall q \\in\\mathbb{N}: q*b = d*y*q \\rightarrow \\, d\\mid q*b \\,\\,\\forall q$  \n",
    "#### if $d\\mid (a-b)$ then $d\\mid (a-b*q) $ (for b*q<a) $\\rightarrow d\\mid r$\n",
    "$a-b*q = (d*x) - (d*y*q) = d*(x-y*q) \\rightarrow d\\mid r$"
   ]
  },
  {
   "cell_type": "markdown",
   "id": "lesbian-playback",
   "metadata": {},
   "source": [
    "# is $r_n$ the biggest divisor?\n",
    "### assume $d|a$ and $d|b$\n",
    "$$\n",
    "    d\\mid a \\,,\\, d\\mid b \\rightarrow d\\mid (a-b*q_1) \\rightarrow d\\mid r_1 \\\\\n",
    "    \\rightarrow d\\mid (d - r_1 * q_2) \\rightarrow d\\mid r_2 \\\\\n",
    "    ... \\rightarrow d|r_n\n",
    "$$\n",
    "### since $d\\mid r_n$, $d\\le r_n$\n",
    "### so, any common divisor of a and b, must be less than or equal to $r_n$, thefore $r_n$ is the greatest common divisor"
   ]
  },
  {
   "cell_type": "code",
   "execution_count": null,
   "id": "stretch-saudi",
   "metadata": {},
   "outputs": [],
   "source": []
  },
  {
   "cell_type": "markdown",
   "id": "vietnamese-drinking",
   "metadata": {},
   "source": [
    "## gcd($r_{n-2}$, $r_{n-1}$)=$r_n \\rightarrow$ gcd($r_{n-3}$, $r_{n-2}$)=gcd($r_{n-2}$, $r_{n-1}$) =$r_n$\n",
    "## $\\rightarrow$ gcd(a,b)=gcd(b,r)=...=$r_n$"
   ]
  },
  {
   "cell_type": "code",
   "execution_count": null,
   "id": "earned-inclusion",
   "metadata": {},
   "outputs": [],
   "source": []
  },
  {
   "cell_type": "code",
   "execution_count": null,
   "id": "fifty-garage",
   "metadata": {},
   "outputs": [],
   "source": []
  }
 ],
 "metadata": {
  "kernelspec": {
   "display_name": "Python 3",
   "language": "python",
   "name": "python3"
  },
  "language_info": {
   "codemirror_mode": {
    "name": "ipython",
    "version": 3
   },
   "file_extension": ".py",
   "mimetype": "text/x-python",
   "name": "python",
   "nbconvert_exporter": "python",
   "pygments_lexer": "ipython3",
   "version": "3.8.5"
  }
 },
 "nbformat": 4,
 "nbformat_minor": 5
}
