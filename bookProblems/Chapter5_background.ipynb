{
 "cells": [
  {
   "cell_type": "markdown",
   "id": "worldwide-aerospace",
   "metadata": {},
   "source": [
    "# divisibility and gcd with euclid"
   ]
  },
  {
   "cell_type": "markdown",
   "id": "focal-assembly",
   "metadata": {},
   "source": [
    "## euclidean algorithm background\n",
    "###  $\\forall a,b \\in\\mathbb{N}$, $ \\exists q,r \\in\\mathbb{N} $ such that $a=b*q+r$ with $r_1<b$  \n",
    "\n",
    "$$\n",
    "    a=b*q_1 + r_1 \\rightarrow \\\\\n",
    "    b = r_1 * q_2 + r_2 \\rightarrow \\\\\n",
    "    r_1 =r_2 * q_3 + r_3 \\rightarrow \\\\\n",
    "    ... \\\\\n",
    "    r_{n-2} = r_{n-1}*q_n + r_n \\rightarrow \\\\\n",
    "    r_{n-1} = r_{n}*q_{n+1} + 0\n",
    "$$\n",
    "euclid says $r_n$ is the gcd (that the last nonzero remainder in this algorithm is the gcd)  \n",
    "so, let $r_0 = b$, $r_{-1}=a$  \n",
    "$r_{i-1}=r_{i}*q_{i+1} + r_{i+1}$\n",
    "\n"
   ]
  },
  {
   "cell_type": "markdown",
   "id": "rational-reflection",
   "metadata": {},
   "source": [
    "# why is $r_n$ =gcd(a,b)?\n",
    "## does the algorithm have to end\n",
    "#### $r_i < r_{i-1}$, and since we are bound to positive ints for the quotient and remainder, the algorithm must end with $r_n>0$\n",
    "## does $r_n \\mid a$ and $r_n \\mid b$\n",
    "#### $r_n \\mid r_{n-1} \\rightarrow r_n \\mid r_{n-2} \\rightarrow ... \\rightarrow r_n \\mid b \\rightarrow r_n \\mid a$\n",
    "## why does $r_n$ have to divide $a$ and $b$?\n",
    "### so, assume $\\exists d\\in\\mathbb{N}$ such that $d\\mid a$ and $d\\mid b$\n",
    "### that means $\\exists x,y\\in\\mathbb{N}$ such that $a=d*x$ and $b=d*y$\n",
    "#### NOTE: since $a-b = d*x - d*y = d*(x-y)$, $d\\mid (a-b)$\n",
    "#### if $d\\mid (a-b)$ then let $x=1, y=q$ so $d\\mid (a-b*q) \\rightarrow d\\mid r$"
   ]
  },
  {
   "cell_type": "markdown",
   "id": "supported-crystal",
   "metadata": {},
   "source": [
    "## so, if $d\\mid a$ and $d\\mid b$, and $a=b*q+r$ then $d\\mid r$"
   ]
  },
  {
   "cell_type": "markdown",
   "id": "lesbian-playback",
   "metadata": {},
   "source": [
    "# prove $r_n$ is gcd\n",
    "$$\n",
    "    d\\mid a \\,,\\, d\\mid b \\rightarrow d\\mid (a-b*q_1) \\rightarrow d\\mid r \\\\\n",
    "    \\rightarrow d\\mid (d - r_1 * q_2) \\rightarrow d\\mid r_2 \\\\\n",
    "    ... \\rightarrow d|r_n\n",
    "$$\n",
    "since $d\\mid r_n$, $d\\le r_n$\n",
    "so, any common factor of a and b, must be less than or equal to $r_n$, thefore $r_n$ is the greatest common divisor"
   ]
  },
  {
   "cell_type": "markdown",
   "id": "intimate-employment",
   "metadata": {},
   "source": []
  },
  {
   "cell_type": "markdown",
   "id": "copyrighted-senegal",
   "metadata": {},
   "source": []
  },
  {
   "cell_type": "markdown",
   "id": "vietnamese-drinking",
   "metadata": {},
   "source": [
    "## gcd($r_{n-2}$, $r_{n-1}$)=$r_n \\rightarrow$ gcd($r_{n-3}$, $r_{n-2}$)=gcd($r_{n-2}$, $r_{n-1}$) =$r_n$\n",
    "## $\\rightarrow$ gcd(a,b)=gcd(b,r)=...=$r_n$"
   ]
  },
  {
   "cell_type": "markdown",
   "id": "dressed-computer",
   "metadata": {},
   "source": []
  },
  {
   "cell_type": "markdown",
   "id": "literary-armenia",
   "metadata": {},
   "source": []
  },
  {
   "cell_type": "markdown",
   "id": "enclosed-concentrate",
   "metadata": {},
   "source": []
  },
  {
   "cell_type": "markdown",
   "id": "vital-munich",
   "metadata": {},
   "source": []
  },
  {
   "cell_type": "markdown",
   "id": "pregnant-seven",
   "metadata": {},
   "source": []
  },
  {
   "cell_type": "markdown",
   "id": "injured-poverty",
   "metadata": {},
   "source": []
  },
  {
   "cell_type": "markdown",
   "id": "prospective-iceland",
   "metadata": {},
   "source": []
  },
  {
   "cell_type": "markdown",
   "id": "lonely-singles",
   "metadata": {},
   "source": []
  },
  {
   "cell_type": "markdown",
   "id": "historical-charleston",
   "metadata": {},
   "source": []
  },
  {
   "cell_type": "markdown",
   "id": "human-individual",
   "metadata": {},
   "source": []
  },
  {
   "cell_type": "markdown",
   "id": "right-breed",
   "metadata": {},
   "source": []
  },
  {
   "cell_type": "markdown",
   "id": "delayed-aspect",
   "metadata": {},
   "source": []
  },
  {
   "cell_type": "markdown",
   "id": "touched-maximum",
   "metadata": {},
   "source": []
  },
  {
   "cell_type": "markdown",
   "id": "tutorial-brown",
   "metadata": {},
   "source": []
  },
  {
   "cell_type": "markdown",
   "id": "competitive-wellington",
   "metadata": {},
   "source": []
  },
  {
   "cell_type": "markdown",
   "id": "french-shipping",
   "metadata": {},
   "source": []
  },
  {
   "cell_type": "markdown",
   "id": "iraqi-coral",
   "metadata": {},
   "source": []
  },
  {
   "cell_type": "markdown",
   "id": "split-friendship",
   "metadata": {},
   "source": []
  },
  {
   "cell_type": "markdown",
   "id": "annual-thinking",
   "metadata": {},
   "source": []
  },
  {
   "cell_type": "markdown",
   "id": "human-bruce",
   "metadata": {},
   "source": []
  },
  {
   "cell_type": "markdown",
   "id": "super-latter",
   "metadata": {},
   "source": []
  }
 ],
 "metadata": {
  "kernelspec": {
   "display_name": "Python 3",
   "language": "python",
   "name": "python3"
  },
  "language_info": {
   "codemirror_mode": {
    "name": "ipython",
    "version": 3
   },
   "file_extension": ".py",
   "mimetype": "text/x-python",
   "name": "python",
   "nbconvert_exporter": "python",
   "pygments_lexer": "ipython3",
   "version": "3.8.5"
  }
 },
 "nbformat": 4,
 "nbformat_minor": 5
}
