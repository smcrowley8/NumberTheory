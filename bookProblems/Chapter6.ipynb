{
 "cells": [
  {
   "cell_type": "markdown",
   "id": "consistent-sussex",
   "metadata": {},
   "source": [
    "## 6.1"
   ]
  },
  {
   "cell_type": "code",
   "execution_count": null,
   "id": "guilty-murray",
   "metadata": {},
   "outputs": [],
   "source": [
    "import math\n",
    "\n",
    "def linSol(a, b):\n",
    "    #solves linear solutions for x, y in the form : ax + by = gcd(a, b)\n",
    "    g=math.gcd(a, b)\n",
    "    a/=g\n",
    "    b/=g\n",
    "    #now we are soling (a/g)x + (b/g)y = 1\n",
    "    #implement gaussian elimination or just hard code gcd recursively to bubble up x,y\n",
    "    \n",
    "    "
   ]
  }
 ],
 "metadata": {
  "kernelspec": {
   "display_name": "Python 3",
   "language": "python",
   "name": "python3"
  },
  "language_info": {
   "codemirror_mode": {
    "name": "ipython",
    "version": 3
   },
   "file_extension": ".py",
   "mimetype": "text/x-python",
   "name": "python",
   "nbconvert_exporter": "python",
   "pygments_lexer": "ipython3",
   "version": "3.8.5"
  }
 },
 "nbformat": 4,
 "nbformat_minor": 5
}
