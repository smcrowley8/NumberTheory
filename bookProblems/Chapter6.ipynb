{
 "cells": [
  {
   "cell_type": "markdown",
   "id": "consistent-sussex",
   "metadata": {},
   "source": [
    "## 6.3"
   ]
  },
  {
   "cell_type": "markdown",
   "id": "demonstrated-rapid",
   "metadata": {},
   "source": []
  },
  {
   "cell_type": "markdown",
   "id": "dress-belgium",
   "metadata": {},
   "source": []
  },
  {
   "cell_type": "markdown",
   "id": "matched-industry",
   "metadata": {},
   "source": [
    "## b)"
   ]
  },
  {
   "cell_type": "code",
   "execution_count": 72,
   "id": "guilty-murray",
   "metadata": {},
   "outputs": [],
   "source": [
    "import math \n",
    "        \n",
    "def egcd(a, b):\n",
    "    #returns (gcd, x, y) for a,b in equation ax+by=gcd(a,b)\n",
    "    if a==0:\n",
    "        return b, 0, 1\n",
    "    #else\n",
    "    gcd, x1, y1 = egcd(b%a, a) \n",
    "    x = y1 - (b//a) * x1 \n",
    "    y = x1 \n",
    "     \n",
    "    return gcd, x, y\n",
    "\n",
    "def prettyPrint(gcd, x, y, a, b):\n",
    "    print(f'{a}x+{b}y=gcd({a},{b}) =>\\tgcd({a},{b})={gcd}\\tx={x}\\ty={y}')\n",
    "    \n",
    "def testSolution(gcd, x, y, a, b):\n",
    "    ax=a*x\n",
    "    by=b*y\n",
    "    sol=ax+by\n",
    "    print(f'{a}*{x}={ax}\\t{b}*{y}={by}\\t{ax}+{by}={sol}')\n",
    "    if sol==gcd:\n",
    "        print('GOOD')\n",
    "    else:\n",
    "        print('FAIL')"
   ]
  },
  {
   "cell_type": "markdown",
   "id": "another-motorcycle",
   "metadata": {},
   "source": [
    "## c)"
   ]
  },
  {
   "cell_type": "code",
   "execution_count": 74,
   "id": "appreciated-allowance",
   "metadata": {},
   "outputs": [
    {
     "name": "stdout",
     "output_type": "stream",
     "text": [
      "19789x+23548y=gcd(19789,23548) =>\tgcd(19789,23548)=7\tx=1303\ty=-1095\n",
      "19789*1303=25785067\t23548*-1095=-25785060\t25785067+-25785060=7\n",
      "good\n",
      "31875x+8387y=gcd(31875,8387) =>\tgcd(31875,8387)=1\tx=-381\ty=1448\n",
      "31875*-381=-12144375\t8387*1448=12144376\t-12144375+12144376=1\n",
      "good\n",
      "22241739x+19848039y=gcd(22241739,19848039) =>\tgcd(22241739,19848039)=237\tx=-8980\ty=10063\n",
      "22241739*-8980=-199730816220\t19848039*10063=199730816457\t-199730816220+199730816457=237\n",
      "good\n"
     ]
    }
   ],
   "source": [
    "qd = [(19789, 23548), (31875, 8387), (22241739, 19848039)]\n",
    "for q in qd:\n",
    "    a, b = q[0], q[1]\n",
    "    g, x, y=egcd(a, b)\n",
    "    prettyPrint(g, x, y, a, b)\n",
    "    testSolution(g, x, y, a, b)\n",
    "    "
   ]
  },
  {
   "cell_type": "code",
   "execution_count": 77,
   "id": "standing-lottery",
   "metadata": {},
   "outputs": [
    {
     "name": "stdout",
     "output_type": "stream",
     "text": [
      "5x+0y=gcd(5,0) =>\tgcd(5,0)=5\tx=1\ty=0\n"
     ]
    }
   ],
   "source": [
    "#D)\n",
    "g, x, y = egcd(5, 0)\n",
    "prettyPrint(g, x, y, 5, 0)"
   ]
  },
  {
   "cell_type": "code",
   "execution_count": 78,
   "id": "editorial-saudi",
   "metadata": {},
   "outputs": [],
   "source": [
    "#make egcd give smallest possible positive x\n"
   ]
  },
  {
   "cell_type": "markdown",
   "id": "cordless-refrigerator",
   "metadata": {},
   "source": [
    "# 6.5\n",
    "## supposed gcd(a,b)=1. prove that $\\forall c$, $ax+by=c$ has a solution with integers x,y\n"
   ]
  },
  {
   "cell_type": "markdown",
   "id": "scheduled-directive",
   "metadata": {},
   "source": [
    "just multiply solutions of ax+by=1 by c, right?  \n",
    "and all ax+by=gcd(a,b) has solutions, so if gcd(a,b)=1, then just egcd(a,b) to get x y   \n",
    "then multiply x y by c\n"
   ]
  },
  {
   "cell_type": "code",
   "execution_count": 80,
   "id": "stable-sarah",
   "metadata": {},
   "outputs": [
    {
     "name": "stdout",
     "output_type": "stream",
     "text": [
      "(25, -50)\n"
     ]
    }
   ],
   "source": [
    "def linSol(a,b,c):\n",
    "    #assumes gcd(a,b)=1\n",
    "    #returns (x,y) for a*x+b*y=c\n",
    "    g,x,y=egcd(a, b)\n",
    "    x*=c\n",
    "    y*=c\n",
    "    return x,y\n",
    "\n",
    "print(linSol(5, 2, 25))"
   ]
  },
  {
   "cell_type": "code",
   "execution_count": 81,
   "id": "dominant-montreal",
   "metadata": {},
   "outputs": [
    {
     "data": {
      "text/plain": [
       "25"
      ]
     },
     "execution_count": 81,
     "metadata": {},
     "output_type": "execute_result"
    }
   ],
   "source": [
    "5*25 - 50*2"
   ]
  },
  {
   "cell_type": "code",
   "execution_count": null,
   "id": "short-unemployment",
   "metadata": {},
   "outputs": [],
   "source": []
  }
 ],
 "metadata": {
  "kernelspec": {
   "display_name": "Python 3",
   "language": "python",
   "name": "python3"
  },
  "language_info": {
   "codemirror_mode": {
    "name": "ipython",
    "version": 3
   },
   "file_extension": ".py",
   "mimetype": "text/x-python",
   "name": "python",
   "nbconvert_exporter": "python",
   "pygments_lexer": "ipython3",
   "version": "3.8.5"
  }
 },
 "nbformat": 4,
 "nbformat_minor": 5
}
