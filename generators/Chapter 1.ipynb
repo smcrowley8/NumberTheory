{
 "cells": [
  {
   "cell_type": "code",
   "execution_count": 1,
   "id": "thick-individual",
   "metadata": {},
   "outputs": [],
   "source": [
    "import numpy as np\n",
    "import pandas as pd\n",
    "import matplotlib.pyplot as plt\n",
    "import math"
   ]
  },
  {
   "cell_type": "markdown",
   "id": "north-monitor",
   "metadata": {},
   "source": [
    "# exercise 1.1"
   ]
  },
  {
   "cell_type": "code",
   "execution_count": 2,
   "id": "sunrise-knock",
   "metadata": {},
   "outputs": [],
   "source": [
    "def T(n):\n",
    "    #returns the number of the Nth triangle\n",
    "    return int((n*(n+1))/2) #always even so no rounding issues, int() for type issues"
   ]
  },
  {
   "cell_type": "markdown",
   "id": "critical-impossible",
   "metadata": {},
   "source": [
    "lets go through a bunch of triangles, test if square, and then save T,S and the actual number"
   ]
  },
  {
   "cell_type": "code",
   "execution_count": 29,
   "id": "abroad-category",
   "metadata": {},
   "outputs": [],
   "source": [
    "df={\"N\":[], \"T\":[], \"S\":[]}\n",
    "for i in range(1,100000):\n",
    "    t=T(i)\n",
    "    tmp=round(math.sqrt(t))\n",
    "    if tmp**2 == t: #if rounded sqrt(t)^2 =t, then t is square\n",
    "        df[\"N\"].append(int(t))\n",
    "        df[\"T\"].append(i)\n",
    "        df[\"S\"].append(tmp)"
   ]
  },
  {
   "cell_type": "code",
   "execution_count": 30,
   "id": "centered-abraham",
   "metadata": {},
   "outputs": [
    {
     "data": {
      "text/html": [
       "<div>\n",
       "<style scoped>\n",
       "    .dataframe tbody tr th:only-of-type {\n",
       "        vertical-align: middle;\n",
       "    }\n",
       "\n",
       "    .dataframe tbody tr th {\n",
       "        vertical-align: top;\n",
       "    }\n",
       "\n",
       "    .dataframe thead th {\n",
       "        text-align: right;\n",
       "    }\n",
       "</style>\n",
       "<table border=\"1\" class=\"dataframe\">\n",
       "  <thead>\n",
       "    <tr style=\"text-align: right;\">\n",
       "      <th></th>\n",
       "      <th>N</th>\n",
       "      <th>T</th>\n",
       "      <th>S</th>\n",
       "    </tr>\n",
       "  </thead>\n",
       "  <tbody>\n",
       "    <tr>\n",
       "      <th>1</th>\n",
       "      <td>1</td>\n",
       "      <td>1</td>\n",
       "      <td>1</td>\n",
       "    </tr>\n",
       "    <tr>\n",
       "      <th>2</th>\n",
       "      <td>36</td>\n",
       "      <td>8</td>\n",
       "      <td>6</td>\n",
       "    </tr>\n",
       "    <tr>\n",
       "      <th>3</th>\n",
       "      <td>1225</td>\n",
       "      <td>49</td>\n",
       "      <td>35</td>\n",
       "    </tr>\n",
       "    <tr>\n",
       "      <th>4</th>\n",
       "      <td>41616</td>\n",
       "      <td>288</td>\n",
       "      <td>204</td>\n",
       "    </tr>\n",
       "    <tr>\n",
       "      <th>5</th>\n",
       "      <td>1413721</td>\n",
       "      <td>1681</td>\n",
       "      <td>1189</td>\n",
       "    </tr>\n",
       "    <tr>\n",
       "      <th>6</th>\n",
       "      <td>48024900</td>\n",
       "      <td>9800</td>\n",
       "      <td>6930</td>\n",
       "    </tr>\n",
       "    <tr>\n",
       "      <th>7</th>\n",
       "      <td>1631432881</td>\n",
       "      <td>57121</td>\n",
       "      <td>40391</td>\n",
       "    </tr>\n",
       "  </tbody>\n",
       "</table>\n",
       "</div>"
      ],
      "text/plain": [
       "            N      T      S\n",
       "1           1      1      1\n",
       "2          36      8      6\n",
       "3        1225     49     35\n",
       "4       41616    288    204\n",
       "5     1413721   1681   1189\n",
       "6    48024900   9800   6930\n",
       "7  1631432881  57121  40391"
      ]
     },
     "execution_count": 30,
     "metadata": {},
     "output_type": "execute_result"
    }
   ],
   "source": [
    "df=pd.DataFrame(df, index=range(1, len(df[\"N\"])+1))\n",
    "df"
   ]
  },
  {
   "cell_type": "code",
   "execution_count": 31,
   "id": "textile-ethiopia",
   "metadata": {},
   "outputs": [
    {
     "data": {
      "text/plain": [
       "[<matplotlib.lines.Line2D at 0x7f09c922c9a0>]"
      ]
     },
     "execution_count": 31,
     "metadata": {},
     "output_type": "execute_result"
    },
    {
     "data": {
      "image/png": "[encoded data removed]",
      "text/plain": [
       "<Figure size 432x288 with 1 Axes>"
      ]
     },
     "metadata": {
      "needs_background": "light"
     },
     "output_type": "display_data"
    }
   ],
   "source": [
    "x=range(1, len(df[\"S\"])+1)\n",
    "plt.plot(x, df[\"S\"])\n",
    "plt.plot(x, df[\"T\"])\n",
    "#z=np.polyfit(x, df[\"N\"], 3)\n",
    "#print(z)"
   ]
  },
  {
   "cell_type": "code",
   "execution_count": null,
   "id": "weekly-polish",
   "metadata": {},
   "outputs": [],
   "source": []
  }
 ],
 "metadata": {
  "kernelspec": {
   "display_name": "Python 3",
   "language": "python",
   "name": "python3"
  },
  "language_info": {
   "codemirror_mode": {
    "name": "ipython",
    "version": 3
   },
   "file_extension": ".py",
   "mimetype": "text/x-python",
   "name": "python",
   "nbconvert_exporter": "python",
   "pygments_lexer": "ipython3",
   "version": "3.8.5"
  }
 },
 "nbformat": 4,
 "nbformat_minor": 5
}
